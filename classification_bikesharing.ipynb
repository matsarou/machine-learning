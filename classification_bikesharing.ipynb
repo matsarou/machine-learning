{
 "cells": [
  {
   "cell_type": "markdown",
   "metadata": {},
   "source": [
    "# Classification\n",
    "\n",
    "### Use a decision tree to learn a classification model that predicts the number of persons that used a bicycle (column “cnt”) based on the available features. "
   ]
  },
  {
   "cell_type": "code",
   "execution_count": 19,
   "metadata": {},
   "outputs": [],
   "source": [
    "import matplotlib.pyplot as plt\n",
    "import numpy as np\n",
    "import pandas as pd\n",
    "import seaborn as sns\n",
    "from imblearn.over_sampling import SMOTE\n",
    "from sklearn import metrics\n",
    "from sklearn import model_selection, preprocessing\n",
    "from sklearn.ensemble import AdaBoostClassifier\n",
    "from sklearn.model_selection import train_test_split, cross_val_score, cross_val_predict, StratifiedKFold\n",
    "from sklearn.tree import DecisionTreeClassifier\n",
    "%matplotlib inline"
   ]
  },
  {
   "cell_type": "code",
   "execution_count": 20,
   "metadata": {},
   "outputs": [
    {
     "data": {
      "text/html": [
       "<div>\n",
       "<style scoped>\n",
       "    .dataframe tbody tr th:only-of-type {\n",
       "        vertical-align: middle;\n",
       "    }\n",
       "\n",
       "    .dataframe tbody tr th {\n",
       "        vertical-align: top;\n",
       "    }\n",
       "\n",
       "    .dataframe thead th {\n",
       "        text-align: right;\n",
       "    }\n",
       "</style>\n",
       "<table border=\"1\" class=\"dataframe\">\n",
       "  <thead>\n",
       "    <tr style=\"text-align: right;\">\n",
       "      <th></th>\n",
       "      <th>instant</th>\n",
       "      <th>dteday</th>\n",
       "      <th>season</th>\n",
       "      <th>yr</th>\n",
       "      <th>mnth</th>\n",
       "      <th>holiday</th>\n",
       "      <th>weekday</th>\n",
       "      <th>workingday</th>\n",
       "      <th>weathersit</th>\n",
       "      <th>temp</th>\n",
       "      <th>atemp</th>\n",
       "      <th>hum</th>\n",
       "      <th>windspeed</th>\n",
       "      <th>casual</th>\n",
       "      <th>registered</th>\n",
       "      <th>cnt</th>\n",
       "    </tr>\n",
       "  </thead>\n",
       "  <tbody>\n",
       "    <tr>\n",
       "      <th>0</th>\n",
       "      <td>1</td>\n",
       "      <td>2011-01-01</td>\n",
       "      <td>1</td>\n",
       "      <td>0</td>\n",
       "      <td>1</td>\n",
       "      <td>0</td>\n",
       "      <td>6</td>\n",
       "      <td>0</td>\n",
       "      <td>2</td>\n",
       "      <td>0.344167</td>\n",
       "      <td>0.363625</td>\n",
       "      <td>0.805833</td>\n",
       "      <td>0.160446</td>\n",
       "      <td>331</td>\n",
       "      <td>654</td>\n",
       "      <td>985</td>\n",
       "    </tr>\n",
       "    <tr>\n",
       "      <th>1</th>\n",
       "      <td>2</td>\n",
       "      <td>2011-01-02</td>\n",
       "      <td>1</td>\n",
       "      <td>0</td>\n",
       "      <td>1</td>\n",
       "      <td>0</td>\n",
       "      <td>0</td>\n",
       "      <td>0</td>\n",
       "      <td>2</td>\n",
       "      <td>0.363478</td>\n",
       "      <td>0.353739</td>\n",
       "      <td>0.696087</td>\n",
       "      <td>0.248539</td>\n",
       "      <td>131</td>\n",
       "      <td>670</td>\n",
       "      <td>801</td>\n",
       "    </tr>\n",
       "    <tr>\n",
       "      <th>2</th>\n",
       "      <td>3</td>\n",
       "      <td>2011-01-03</td>\n",
       "      <td>1</td>\n",
       "      <td>0</td>\n",
       "      <td>1</td>\n",
       "      <td>0</td>\n",
       "      <td>1</td>\n",
       "      <td>1</td>\n",
       "      <td>1</td>\n",
       "      <td>0.196364</td>\n",
       "      <td>0.189405</td>\n",
       "      <td>0.437273</td>\n",
       "      <td>0.248309</td>\n",
       "      <td>120</td>\n",
       "      <td>1229</td>\n",
       "      <td>1349</td>\n",
       "    </tr>\n",
       "    <tr>\n",
       "      <th>3</th>\n",
       "      <td>4</td>\n",
       "      <td>2011-01-04</td>\n",
       "      <td>1</td>\n",
       "      <td>0</td>\n",
       "      <td>1</td>\n",
       "      <td>0</td>\n",
       "      <td>2</td>\n",
       "      <td>1</td>\n",
       "      <td>1</td>\n",
       "      <td>0.200000</td>\n",
       "      <td>0.212122</td>\n",
       "      <td>0.590435</td>\n",
       "      <td>0.160296</td>\n",
       "      <td>108</td>\n",
       "      <td>1454</td>\n",
       "      <td>1562</td>\n",
       "    </tr>\n",
       "    <tr>\n",
       "      <th>4</th>\n",
       "      <td>5</td>\n",
       "      <td>2011-01-05</td>\n",
       "      <td>1</td>\n",
       "      <td>0</td>\n",
       "      <td>1</td>\n",
       "      <td>0</td>\n",
       "      <td>3</td>\n",
       "      <td>1</td>\n",
       "      <td>1</td>\n",
       "      <td>0.226957</td>\n",
       "      <td>0.229270</td>\n",
       "      <td>0.436957</td>\n",
       "      <td>0.186900</td>\n",
       "      <td>82</td>\n",
       "      <td>1518</td>\n",
       "      <td>1600</td>\n",
       "    </tr>\n",
       "  </tbody>\n",
       "</table>\n",
       "</div>"
      ],
      "text/plain": [
       "   instant      dteday  season  yr  mnth  holiday  weekday  workingday  \\\n",
       "0        1  2011-01-01       1   0     1        0        6           0   \n",
       "1        2  2011-01-02       1   0     1        0        0           0   \n",
       "2        3  2011-01-03       1   0     1        0        1           1   \n",
       "3        4  2011-01-04       1   0     1        0        2           1   \n",
       "4        5  2011-01-05       1   0     1        0        3           1   \n",
       "\n",
       "   weathersit      temp     atemp       hum  windspeed  casual  registered  \\\n",
       "0           2  0.344167  0.363625  0.805833   0.160446     331         654   \n",
       "1           2  0.363478  0.353739  0.696087   0.248539     131         670   \n",
       "2           1  0.196364  0.189405  0.437273   0.248309     120        1229   \n",
       "3           1  0.200000  0.212122  0.590435   0.160296     108        1454   \n",
       "4           1  0.226957  0.229270  0.436957   0.186900      82        1518   \n",
       "\n",
       "    cnt  \n",
       "0   985  \n",
       "1   801  \n",
       "2  1349  \n",
       "3  1562  \n",
       "4  1600  "
      ]
     },
     "execution_count": 20,
     "metadata": {},
     "output_type": "execute_result"
    }
   ],
   "source": [
    "df = pd.read_csv('./day.csv', sep=\",\", quoting=3)\n",
    "df.head()"
   ]
  },
  {
   "cell_type": "code",
   "execution_count": 21,
   "metadata": {},
   "outputs": [],
   "source": [
    "df = df.astype(str)\n",
    "df['cnt'] = pd.to_numeric(df['cnt'])"
   ]
  },
  {
   "cell_type": "markdown",
   "metadata": {},
   "source": [
    "### See the distribution of the numeric data in cnt column"
   ]
  },
  {
   "cell_type": "markdown",
   "metadata": {},
   "source": [
    "The data is imbalanced. The group 4000-6000 is the majority class, while the target class 1-2000 is the minority class(with the less samples)."
   ]
  },
  {
   "cell_type": "code",
   "execution_count": 22,
   "metadata": {},
   "outputs": [
    {
     "name": "stdout",
     "output_type": "stream",
     "text": [
      "Cnt target class\n",
      "count     731.000000\n",
      "mean     4504.348837\n",
      "std      1937.211452\n",
      "min        22.000000\n",
      "25%      3152.000000\n",
      "50%      4548.000000\n",
      "75%      5956.000000\n",
      "max      8714.000000\n",
      "Name: cnt, dtype: float64\n"
     ]
    },
    {
     "data": {
      "text/plain": [
       "<matplotlib.axes._subplots.AxesSubplot at 0x7f76293f1a58>"
      ]
     },
     "execution_count": 22,
     "metadata": {},
     "output_type": "execute_result"
    },
    {
     "data": {
      "image/png": "[encoded data removed]",
      "text/plain": [
       "<Figure size 432x288 with 1 Axes>"
      ]
     },
     "metadata": {
      "needs_background": "light"
     },
     "output_type": "display_data"
    }
   ],
   "source": [
    "print('Cnt target class')\n",
    "print(df['cnt'].describe())\n",
    "# Create 4 categories of the target column cnt:\n",
    "# 22-2000, 2000-4000, 4000-6000, 6000-9000\n",
    "bins = [1,2000,4000,6000,9000]\n",
    "df_cnt=pd.cut(df['cnt'], bins=bins, labels=['1-2000', '2000-4000', '4000-6000', '6000-9000'])\n",
    "\n",
    "# Plot data distribution\n",
    "sns.countplot(df_cnt)"
   ]
  },
  {
   "cell_type": "markdown",
   "metadata": {},
   "source": [
    "When a Decision Tree classifier model was trained on the imbalanced dataset and applied to the test set, the accuracy obtained was 94%. But the precision and recall scores for the minority class was 0%"
   ]
  },
  {
   "cell_type": "code",
   "execution_count": 31,
   "metadata": {},
   "outputs": [
    {
     "name": "stdout",
     "output_type": "stream",
     "text": [
      "Evaluating the results of the predictions given the training data:\n",
      "\n",
      "              precision    recall  f1-score   support\n",
      "\n",
      "           0      0.922     0.959     0.940        98\n",
      "           1      0.943     0.906     0.924       181\n",
      "           2      0.942     0.960     0.951       272\n",
      "           3      0.972     0.961     0.966       180\n",
      "\n",
      "    accuracy                          0.947       731\n",
      "   macro avg      0.945     0.946     0.945       731\n",
      "weighted avg      0.947     0.947     0.947       731\n",
      "\n"
     ]
    }
   ],
   "source": [
    "df['dteday'] = pd.to_datetime(df[\"dteday\"]).astype(np.int64)\n",
    "X = df.drop(columns=['instant','cnt'])\n",
    "y = preprocessing.LabelEncoder().fit_transform(list(df_cnt.values))\n",
    "\n",
    "\n",
    "clf = DecisionTreeClassifier(criterion = 'entropy')\n",
    "clf.fit(X, y)\n",
    "\n",
    "kf = StratifiedKFold(n_splits=10, shuffle=True)\n",
    "y_pred = cross_val_predict(clf, X, y, cv=kf)\n",
    "\n",
    "print('Evaluating the results of the predictions given the training data:\\n')\n",
    "# Print the overall accuracy, as well as the f1, precision and recall for each class\n",
    "classification_report = metrics.classification_report(y, y_pred, target_names= np.unique(list(df_cnt.values)))\n",
    "print(metrics.classification_report(y, y_pred, digits=3))"
   ]
  },
  {
   "cell_type": "code",
   "execution_count": 24,
   "metadata": {},
   "outputs": [],
   "source": [
    "# Using stratified sampling instead of random train test split\n",
    "random_seed = 7\n",
    "x_train, x_test, y_train, y_test = train_test_split(X, y, test_size = 0.30, random_state=random_seed, stratify=y)"
   ]
  },
  {
   "cell_type": "markdown",
   "metadata": {},
   "source": [
    "### Improve the performance"
   ]
  },
  {
   "cell_type": "markdown",
   "metadata": {},
   "source": [
    "Balance the dataset, using the SMOTE oversampling method, with class ratio of 1. \n",
    "\n",
    "Then perform 10-fold cross-validation on the balanced training set in order to get an estimate of test set performance."
   ]
  },
  {
   "cell_type": "code",
   "execution_count": 25,
   "metadata": {},
   "outputs": [],
   "source": [
    "# transform the dataset\n",
    "oversample = SMOTE()\n",
    "X, y = oversample.fit_resample(X, y)"
   ]
  },
  {
   "cell_type": "code",
   "execution_count": 26,
   "metadata": {},
   "outputs": [
    {
     "data": {
      "image/png": "[encoded data removed]",
      "text/plain": [
       "<Figure size 432x288 with 1 Axes>"
      ]
     },
     "metadata": {
      "needs_background": "light"
     },
     "output_type": "display_data"
    }
   ],
   "source": [
    "sns.countplot(y)\n",
    "plt.title('Balanced cnt data')\n",
    "plt.show()"
   ]
  },
  {
   "cell_type": "code",
   "execution_count": 34,
   "metadata": {},
   "outputs": [
    {
     "name": "stderr",
     "output_type": "stream",
     "text": [
      "/home/maria/.local/lib/python3.6/site-packages/sklearn/model_selection/_split.py:296: FutureWarning: Setting a random_state has no effect since shuffle is False. This will raise an error in 0.24. You should leave random_state to its default (None), or set shuffle=True.\n",
      "  FutureWarning\n"
     ]
    },
    {
     "name": "stdout",
     "output_type": "stream",
     "text": [
      "After the resampling, evaluate the results of the predictions given the training data:\n",
      "\n",
      "              precision    recall  f1-score   support\n",
      "\n",
      "      1-2000       1.00      0.05      0.10        98\n",
      "   2000-4000       0.31      0.36      0.34       181\n",
      "   4000-6000       0.45      0.77      0.57       272\n",
      "   6000-9000       0.75      0.23      0.36       180\n",
      "\n",
      "    accuracy                           0.44       731\n",
      "   macro avg       0.63      0.35      0.34       731\n",
      "weighted avg       0.56      0.44      0.40       731\n",
      "\n"
     ]
    }
   ],
   "source": [
    "seed = 7\n",
    "num_trees = 30\n",
    "kfold = model_selection.KFold(n_splits=10, random_state=seed)\n",
    "classifier = AdaBoostClassifier(n_estimators=num_trees, random_state=seed)\n",
    "\n",
    "classifier.fit(X, y)\n",
    "\n",
    "y_pred = model_selection.cross_val_predict(classifier, X, y, cv=kfold)\n",
    "\n",
    "print('After the resampling, evaluate the results of the predictions given the training data:\\n')\n",
    "classification_report = metrics.classification_report(y, y_pred, target_names=np.unique(list(df_cnt.values)))\n",
    "print(classification_report)"
   ]
  },
  {
   "cell_type": "markdown",
   "metadata": {},
   "source": [
    "### Ensuring that overfitting has not occurred, use the learned model to identify the two most prominent features."
   ]
  },
  {
   "cell_type": "markdown",
   "metadata": {},
   "source": [
    "The evaluation on the test data give same results with the evaluation on the training data. That means that the learned model did not overfit."
   ]
  },
  {
   "cell_type": "code",
   "execution_count": 35,
   "metadata": {},
   "outputs": [
    {
     "name": "stdout",
     "output_type": "stream",
     "text": [
      "Evaluate the results of the predictions given the training data:\n",
      "\n",
      "              precision    recall  f1-score   support\n",
      "\n",
      "      1-2000       1.00      0.05      0.10        98\n",
      "   2000-4000       0.31      0.36      0.34       181\n",
      "   4000-6000       0.45      0.77      0.57       272\n",
      "   6000-9000       0.75      0.23      0.36       180\n",
      "\n",
      "    accuracy                           0.44       731\n",
      "   macro avg       0.63      0.35      0.34       731\n",
      "weighted avg       0.56      0.44      0.40       731\n",
      "\n"
     ]
    },
    {
     "name": "stderr",
     "output_type": "stream",
     "text": [
      "/home/maria/.local/lib/python3.6/site-packages/sklearn/metrics/_classification.py:1272: UndefinedMetricWarning: Precision and F-score are ill-defined and being set to 0.0 in labels with no predicted samples. Use `zero_division` parameter to control this behavior.\n",
      "  _warn_prf(average, modifier, msg_start, len(result))\n"
     ]
    }
   ],
   "source": [
    "# Evaluate on test data\n",
    "classifier.fit(x_train, y_train)\n",
    "y_pred = classifier.predict(x_test)\n",
    "metrics.classification_report(y_test, y_pred, target_names=np.unique(list(df_cnt.values)))\n",
    "print('Evaluate the results of the predictions given the training data:\\n')\n",
    "print(classification_report)"
   ]
  },
  {
   "cell_type": "code",
   "execution_count": 36,
   "metadata": {},
   "outputs": [
    {
     "name": "stdout",
     "output_type": "stream",
     "text": [
      "The two most prominent features are:\n",
      " [('registered', 0.5666666666666667), ('casual', 0.43333333333333335)]\n"
     ]
    }
   ],
   "source": [
    "# zip and sort the feature_importances_ in desc order\n",
    "# print the two most prominent features, based on the feature_importances_\n",
    "feature_importances=zip(X.columns, classifier.feature_importances_)\n",
    "feature_importances=sorted(feature_importances, key=lambda x: x[1], reverse = True)\n",
    "important_features=feature_importances[:2]\n",
    "print('The two most prominent features are:\\n',important_features)"
   ]
  },
  {
   "cell_type": "code",
   "execution_count": null,
   "metadata": {},
   "outputs": [],
   "source": []
  }
 ],
 "metadata": {
  "kernelspec": {
   "display_name": "Python 3",
   "language": "python",
   "name": "python3"
  },
  "language_info": {
   "codemirror_mode": {
    "name": "ipython",
    "version": 3
   },
   "file_extension": ".py",
   "mimetype": "text/x-python",
   "name": "python",
   "nbconvert_exporter": "python",
   "pygments_lexer": "ipython3",
   "version": "3.6.9"
  }
 },
 "nbformat": 4,
 "nbformat_minor": 2
}
