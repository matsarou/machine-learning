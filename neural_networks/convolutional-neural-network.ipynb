{
 "cells": [
  {
   "cell_type": "markdown",
   "metadata": {},
   "source": [
    "# Convolutional Neural Networks"
   ]
  },
  {
   "cell_type": "code",
   "execution_count": null,
   "metadata": {},
   "outputs": [],
   "source": [
    "from keras.layers import Dense, Activation, Dropout, Flatten, Conv2D, MaxPooling2D,AveragePooling2D\n",
    "from keras.optimizers import Adam,rmsprop"
   ]
  },
  {
   "cell_type": "code",
   "execution_count": null,
   "metadata": {},
   "outputs": [],
   "source": [
    "cnn_model= Sequential()\n",
    "#Questions:\n",
    "#1.How many filters/kernels?\n",
    "#2.What dimensionality for the kernel? => kernel_size\n",
    "#3.What is my activation function?\n",
    "#4.Only for the first layer,the network needs to know the dimensions of the input(one image dimensions)\n",
    "cnn_model.add(Conv2D(filters=64, kernel_size=(3,3), activation='relu', input_shape=(32,32,3))) #1st conv layer\n",
    "cnn_model.add(Conv2D(filters=64, kernel_size=(3,3), activation='relu')) #2nd conv layer\n",
    "cnn_model.add(MaxPooling2D(2,2))\n",
    "cnn_model.add(Dropout(0.3)) #dropout 30% neurons along with their weights, to perform regularization\n",
    "\n",
    "#5.increase the depth of the network, by adding two more conv layers\n",
    "cnn_model.add(Conv2D(filters=128, kernel_size=(3,3), activation='relu')) \n",
    "cnn_model.add(Conv2D(filters=128, kernel_size=(3,3), activation='relu')) \n",
    "cnn_model.add(MaxPooling2D(2,2))\n",
    "cnn_model.add(Dropout(0.2)) #dropout 20% neurons\n",
    "\n",
    "#6. flatten and afterwards we will add the fully connected ANN\n",
    "cnn_model.add(Flatten())\n",
    "#7. in Dense, I need to specify how many neurons, for the hidden layers, do I need\n",
    "cnn_model.add(Dense(units=1024, activation='relu'))\n",
    "cnn_model.add(Dense(units=1024, activation='relu'))\n",
    "#8. Define output layer\n",
    "cnn_model.add(Dense(units=10, activation='relu'))"
   ]
  },
  {
   "cell_type": "code",
   "execution_count": null,
   "metadata": {},
   "outputs": [],
   "source": [
    "# Compile the model\n",
    "# 9. Must specify what loss I have. I do categoral classification so I use the categorical_crossentropy \n",
    "# 10. Specify the optimizer\n",
    "cnn_model.compile(loss=\"categorical_crossentropy\", optimizer=rmsprop(lr=0.01), metrics=[\"accuracy\"])\n",
    "\n",
    "#Fit the model\n",
    "#the object history captures all the progression of the network as it is being trained(all the values for squared_error, \n",
    "# accuracy)\n",
    "cnn_model.fit(x_train, y_train, epochs=20, batch_size=100, shuffle=True)"
   ]
  },
  {
   "cell_type": "code",
   "execution_count": null,
   "metadata": {},
   "outputs": [],
   "source": [
    "evaluation = cnn_model.evaluate(x_test, y_test) #evaluate the model with the test data\n",
    "print('Test loss:', evaluation[0]) #tell me what the score is\n",
    "print('Test accuracy:', evaluation[1])"
   ]
  }
 ],
 "metadata": {
  "kernelspec": {
   "display_name": "Python 3",
   "language": "python",
   "name": "python3"
  },
  "language_info": {
   "codemirror_mode": {
    "name": "ipython",
    "version": 3
   },
   "file_extension": ".py",
   "mimetype": "text/x-python",
   "name": "python",
   "nbconvert_exporter": "python",
   "pygments_lexer": "ipython3",
   "version": "3.7.5"
  }
 },
 "nbformat": 4,
 "nbformat_minor": 4
}
